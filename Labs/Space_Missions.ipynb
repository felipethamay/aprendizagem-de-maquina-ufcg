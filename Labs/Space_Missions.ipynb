{
  "nbformat": 4,
  "nbformat_minor": 0,
  "metadata": {
    "colab": {
      "name": "Space_Missions.ipynb",
      "provenance": [],
      "collapsed_sections": []
    },
    "kernelspec": {
      "name": "python3",
      "display_name": "Python 3"
    }
  },
  "cells": [
    {
      "cell_type": "markdown",
      "metadata": {
        "id": "TkpXcUXLT9Ru"
      },
      "source": [
        "# Space Missions\n",
        "\n",
        "Este notebook se refere ao dataset de missões espaciais, disponível [neste link](https://www.kaggle.com/agirlcoding/all-space-missions-from-1957). O objetivo do notebook é realizar um estudo de classificação utilizando estes dados, para identificar se a missão foi ou não bem sucedida."
      ]
    },
    {
      "cell_type": "markdown",
      "metadata": {
        "id": "6Yi0cZU0T_bL"
      },
      "source": [
        "## Import de bibliotecas e dependências"
      ]
    },
    {
      "cell_type": "code",
      "metadata": {
        "id": "sxvpn7iUTOkY"
      },
      "source": [
        "import numpy as np\n",
        "import pandas as pd\n",
        "\n",
        "np.random.seed(42)\n",
        "\n",
        "from matplotlib import pyplot as plt"
      ],
      "execution_count": null,
      "outputs": []
    },
    {
      "cell_type": "code",
      "metadata": {
        "id": "5jhbfeYlCTHm"
      },
      "source": [
        "from sklearn.preprocessing import LabelEncoder, MinMaxScaler\n",
        "from sklearn.model_selection import train_test_split, StratifiedKFold, GridSearchCV\n",
        "from sklearn.linear_model import LogisticRegression\n",
        "from sklearn.tree import DecisionTreeClassifier\n",
        "from sklearn.metrics import f1_score, accuracy_score"
      ],
      "execution_count": null,
      "outputs": []
    },
    {
      "cell_type": "markdown",
      "metadata": {
        "id": "BkUOsX-7y5sD"
      },
      "source": [
        "O código da função abaixo serve para plotar uma matriz de confusão. A matriz de confusão é um método de facilmente entender como está a previsão do classificador. Vocês podem copiar e adicionar esse mesmo código nos seus notebooks"
      ]
    },
    {
      "cell_type": "code",
      "metadata": {
        "id": "-rnAvPxKrUwA"
      },
      "source": [
        "from sklearn.metrics import confusion_matrix\n",
        "from sklearn.utils.multiclass import unique_labels\n",
        "import itertools\n",
        "\n",
        "\n",
        "def plot_confusion_matrix(cm, classes, normalize=False, title='Confusion matrix',\n",
        "                          cmap=plt.cm.get_cmap('Blues')):\n",
        "    # Função importada dos exemplos do SKLearn\n",
        "    if normalize:\n",
        "        cm = cm.astype('float') / cm.sum(axis=1)[:, np.newaxis]\n",
        "\n",
        "    plt.imshow(cm, interpolation='nearest', cmap=cmap)\n",
        "    plt.title(title)\n",
        "    plt.colorbar()\n",
        "    tick_marks = np.arange(len(classes))\n",
        "    plt.xticks(tick_marks, classes, rotation=45)\n",
        "    plt.yticks(tick_marks, classes)\n",
        "\n",
        "    fmt = '.2f' if normalize else 'd'\n",
        "    thresh = cm.max() / 2.\n",
        "    for i, j in itertools.product(range(cm.shape[0]), range(cm.shape[1])):\n",
        "        plt.text(j, i, format(cm[i, j], fmt),\n",
        "                 horizontalalignment=\"center\",\n",
        "                 color=\"white\" if cm[i, j] > thresh else \"black\")\n",
        "\n",
        "    plt.ylabel('True label')\n",
        "    plt.xlabel('Predicted label')\n",
        "    plt.tight_layout()"
      ],
      "execution_count": null,
      "outputs": []
    },
    {
      "cell_type": "markdown",
      "metadata": {
        "id": "Ex8caGYBUEXd"
      },
      "source": [
        "## Carregando dados"
      ]
    },
    {
      "cell_type": "code",
      "metadata": {
        "id": "OxvBVMo9TXaN",
        "colab": {
          "base_uri": "https://localhost:8080/",
          "height": 264
        },
        "outputId": "aa0006f0-8256-426c-cb9b-3e23b4c37446"
      },
      "source": [
        "df = pd.read_csv('https://drive.google.com/uc?export=download&id=1qJIFG-PhhGpJJXRrTduXSbQetlxb41_V')\n",
        "df.head()"
      ],
      "execution_count": null,
      "outputs": [
        {
          "output_type": "execute_result",
          "data": {
            "text/html": [
              "<div>\n",
              "<style scoped>\n",
              "    .dataframe tbody tr th:only-of-type {\n",
              "        vertical-align: middle;\n",
              "    }\n",
              "\n",
              "    .dataframe tbody tr th {\n",
              "        vertical-align: top;\n",
              "    }\n",
              "\n",
              "    .dataframe thead th {\n",
              "        text-align: right;\n",
              "    }\n",
              "</style>\n",
              "<table border=\"1\" class=\"dataframe\">\n",
              "  <thead>\n",
              "    <tr style=\"text-align: right;\">\n",
              "      <th></th>\n",
              "      <th>Unnamed: 0</th>\n",
              "      <th>Unnamed: 0.1</th>\n",
              "      <th>Company Name</th>\n",
              "      <th>Location</th>\n",
              "      <th>Datum</th>\n",
              "      <th>Detail</th>\n",
              "      <th>Status Rocket</th>\n",
              "      <th>Rocket</th>\n",
              "      <th>Status Mission</th>\n",
              "    </tr>\n",
              "  </thead>\n",
              "  <tbody>\n",
              "    <tr>\n",
              "      <th>0</th>\n",
              "      <td>0</td>\n",
              "      <td>0</td>\n",
              "      <td>SpaceX</td>\n",
              "      <td>LC-39A, Kennedy Space Center, Florida, USA</td>\n",
              "      <td>Fri Aug 07, 2020 05:12 UTC</td>\n",
              "      <td>Falcon 9 Block 5 | Starlink V1 L9 &amp; BlackSky</td>\n",
              "      <td>StatusActive</td>\n",
              "      <td>50.0</td>\n",
              "      <td>Success</td>\n",
              "    </tr>\n",
              "    <tr>\n",
              "      <th>1</th>\n",
              "      <td>1</td>\n",
              "      <td>1</td>\n",
              "      <td>CASC</td>\n",
              "      <td>Site 9401 (SLS-2), Jiuquan Satellite Launch Ce...</td>\n",
              "      <td>Thu Aug 06, 2020 04:01 UTC</td>\n",
              "      <td>Long March 2D | Gaofen-9 04 &amp; Q-SAT</td>\n",
              "      <td>StatusActive</td>\n",
              "      <td>29.75</td>\n",
              "      <td>Success</td>\n",
              "    </tr>\n",
              "    <tr>\n",
              "      <th>2</th>\n",
              "      <td>2</td>\n",
              "      <td>2</td>\n",
              "      <td>SpaceX</td>\n",
              "      <td>Pad A, Boca Chica, Texas, USA</td>\n",
              "      <td>Tue Aug 04, 2020 23:57 UTC</td>\n",
              "      <td>Starship Prototype | 150 Meter Hop</td>\n",
              "      <td>StatusActive</td>\n",
              "      <td>NaN</td>\n",
              "      <td>Success</td>\n",
              "    </tr>\n",
              "    <tr>\n",
              "      <th>3</th>\n",
              "      <td>3</td>\n",
              "      <td>3</td>\n",
              "      <td>Roscosmos</td>\n",
              "      <td>Site 200/39, Baikonur Cosmodrome, Kazakhstan</td>\n",
              "      <td>Thu Jul 30, 2020 21:25 UTC</td>\n",
              "      <td>Proton-M/Briz-M | Ekspress-80 &amp; Ekspress-103</td>\n",
              "      <td>StatusActive</td>\n",
              "      <td>65.0</td>\n",
              "      <td>Success</td>\n",
              "    </tr>\n",
              "    <tr>\n",
              "      <th>4</th>\n",
              "      <td>4</td>\n",
              "      <td>4</td>\n",
              "      <td>ULA</td>\n",
              "      <td>SLC-41, Cape Canaveral AFS, Florida, USA</td>\n",
              "      <td>Thu Jul 30, 2020 11:50 UTC</td>\n",
              "      <td>Atlas V 541 | Perseverance</td>\n",
              "      <td>StatusActive</td>\n",
              "      <td>145.0</td>\n",
              "      <td>Success</td>\n",
              "    </tr>\n",
              "  </tbody>\n",
              "</table>\n",
              "</div>"
            ],
            "text/plain": [
              "   Unnamed: 0  Unnamed: 0.1 Company Name  ... Status Rocket  Rocket Status Mission\n",
              "0           0             0       SpaceX  ...  StatusActive   50.0         Success\n",
              "1           1             1         CASC  ...  StatusActive  29.75         Success\n",
              "2           2             2       SpaceX  ...  StatusActive     NaN        Success\n",
              "3           3             3    Roscosmos  ...  StatusActive   65.0         Success\n",
              "4           4             4          ULA  ...  StatusActive  145.0         Success\n",
              "\n",
              "[5 rows x 9 columns]"
            ]
          },
          "metadata": {
            "tags": []
          },
          "execution_count": 5
        }
      ]
    },
    {
      "cell_type": "markdown",
      "metadata": {
        "id": "fZS-EUdRzaxx"
      },
      "source": [
        "Ao exportar dados do pandas, ele cria as colunas que podemos ver como `Unnamed`, se referindo ao índice das linhas exportadas. Como não são atributos do DataFrame e não representam informação, vamos eliminar essas duas colunas antes de continuar a análise:"
      ]
    },
    {
      "cell_type": "code",
      "metadata": {
        "id": "MNzaNAx4zq1u"
      },
      "source": [
        "df.drop(['Unnamed: 0', 'Unnamed: 0.1'], axis=1, inplace=True)"
      ],
      "execution_count": null,
      "outputs": []
    },
    {
      "cell_type": "markdown",
      "metadata": {
        "id": "sq6sRQMdT_Vw"
      },
      "source": [
        "## Análise exploratória\n",
        "\n",
        "Primeiramente, vamos identificar nossas variáveis numéricas ou categóricas, e o que podemos utilizar como atributos preditivos:"
      ]
    },
    {
      "cell_type": "code",
      "metadata": {
        "id": "xbgFOrrj-313",
        "colab": {
          "base_uri": "https://localhost:8080/",
          "height": 257
        },
        "outputId": "8773b193-6637-4185-88f7-d7d7e5ddd496"
      },
      "source": [
        "df.describe().T"
      ],
      "execution_count": null,
      "outputs": [
        {
          "output_type": "execute_result",
          "data": {
            "text/html": [
              "<div>\n",
              "<style scoped>\n",
              "    .dataframe tbody tr th:only-of-type {\n",
              "        vertical-align: middle;\n",
              "    }\n",
              "\n",
              "    .dataframe tbody tr th {\n",
              "        vertical-align: top;\n",
              "    }\n",
              "\n",
              "    .dataframe thead th {\n",
              "        text-align: right;\n",
              "    }\n",
              "</style>\n",
              "<table border=\"1\" class=\"dataframe\">\n",
              "  <thead>\n",
              "    <tr style=\"text-align: right;\">\n",
              "      <th></th>\n",
              "      <th>count</th>\n",
              "      <th>unique</th>\n",
              "      <th>top</th>\n",
              "      <th>freq</th>\n",
              "    </tr>\n",
              "  </thead>\n",
              "  <tbody>\n",
              "    <tr>\n",
              "      <th>Company Name</th>\n",
              "      <td>4324</td>\n",
              "      <td>56</td>\n",
              "      <td>RVSN USSR</td>\n",
              "      <td>1777</td>\n",
              "    </tr>\n",
              "    <tr>\n",
              "      <th>Location</th>\n",
              "      <td>4324</td>\n",
              "      <td>137</td>\n",
              "      <td>Site 31/6, Baikonur Cosmodrome, Kazakhstan</td>\n",
              "      <td>235</td>\n",
              "    </tr>\n",
              "    <tr>\n",
              "      <th>Datum</th>\n",
              "      <td>4324</td>\n",
              "      <td>4319</td>\n",
              "      <td>Wed Feb 07, 1990 01:33 UTC</td>\n",
              "      <td>2</td>\n",
              "    </tr>\n",
              "    <tr>\n",
              "      <th>Detail</th>\n",
              "      <td>4324</td>\n",
              "      <td>4278</td>\n",
              "      <td>Cosmos-3MRB (65MRB) | BOR-5 Shuttle</td>\n",
              "      <td>6</td>\n",
              "    </tr>\n",
              "    <tr>\n",
              "      <th>Status Rocket</th>\n",
              "      <td>4324</td>\n",
              "      <td>2</td>\n",
              "      <td>StatusRetired</td>\n",
              "      <td>3534</td>\n",
              "    </tr>\n",
              "    <tr>\n",
              "      <th>Rocket</th>\n",
              "      <td>964</td>\n",
              "      <td>56</td>\n",
              "      <td>450.0</td>\n",
              "      <td>136</td>\n",
              "    </tr>\n",
              "    <tr>\n",
              "      <th>Status Mission</th>\n",
              "      <td>4324</td>\n",
              "      <td>4</td>\n",
              "      <td>Success</td>\n",
              "      <td>3879</td>\n",
              "    </tr>\n",
              "  </tbody>\n",
              "</table>\n",
              "</div>"
            ],
            "text/plain": [
              "               count unique                                         top  freq\n",
              "Company Name    4324     56                                   RVSN USSR  1777\n",
              "Location        4324    137  Site 31/6, Baikonur Cosmodrome, Kazakhstan   235\n",
              "Datum           4324   4319                  Wed Feb 07, 1990 01:33 UTC     2\n",
              "Detail          4324   4278         Cosmos-3MRB (65MRB) | BOR-5 Shuttle     6\n",
              "Status Rocket   4324      2                               StatusRetired  3534\n",
              " Rocket          964     56                                      450.0    136\n",
              "Status Mission  4324      4                                     Success  3879"
            ]
          },
          "metadata": {
            "tags": []
          },
          "execution_count": 7
        }
      ]
    },
    {
      "cell_type": "markdown",
      "metadata": {
        "id": "8pYO4F02_Hbw"
      },
      "source": [
        "Pelas colunas `count` e `unique`, podemos entender se um atributo é numérico, categórico, ou de identificação. Dessa forma:\n",
        "* Existem 56 empresas que realizam lançamentos de espaçonaves - categórico;\n",
        "* Existem 137 possíveis localizações de lançamento de voo - categórico;\n",
        "* A data quase sempre é única, então podemos fazer algumas transformações: (1) transformar em um dado numérico contínuo, algo similar a uma timestamp; (2) extrair apenas uma parte da data, de forma a simplificar o dado;\n",
        "* O detalhe é quase sempre único, quase um identificador;\n",
        "* O status tem apenas dois valores possíveis - categórico;\n",
        "* Rocket é uma coluna que muitas vezes está faltando o valor (apenas 964 dos 4324 lançamentos possuem valor declarado) e muitos destes valores chegam a se repetir. Podemos considerar esta uma variável numérica, com atenção ao fato dos valores faltando;\n",
        "* Status mission é nossa variável alvo.\n",
        "\n",
        "Entretanto, apesar de Status Mission ter 4 valores possíveis, vamos simplificar o problema a uma classificação binária:"
      ]
    },
    {
      "cell_type": "code",
      "metadata": {
        "id": "WEkCLvsj11Ur",
        "colab": {
          "base_uri": "https://localhost:8080/"
        },
        "outputId": "e055a434-d395-4661-e51f-c75924c4444c"
      },
      "source": [
        "df['Status Mission'].unique()"
      ],
      "execution_count": null,
      "outputs": [
        {
          "output_type": "execute_result",
          "data": {
            "text/plain": [
              "array(['Success', 'Failure', 'Prelaunch Failure', 'Partial Failure'],\n",
              "      dtype=object)"
            ]
          },
          "metadata": {
            "tags": []
          },
          "execution_count": 8
        }
      ]
    },
    {
      "cell_type": "markdown",
      "metadata": {
        "id": "pz1NznnU17HT"
      },
      "source": [
        "Existem 3 categorias que representam falha, e uma que representa sucesso. Num problema real, poderíamos adotar diferentes abordagens, por exemplo trasformar `Prelaunch Failure` e `Partial Failure` em `Failure`. Vamos fazer isso no nosso conjunto:"
      ]
    },
    {
      "cell_type": "code",
      "metadata": {
        "id": "MVu6I1vY2V7V"
      },
      "source": [
        "df.loc[~df['Status Mission'].isin(['Success', 'Failure']), 'Status Mission'] = 'Failure'"
      ],
      "execution_count": null,
      "outputs": []
    },
    {
      "cell_type": "markdown",
      "metadata": {
        "id": "KMnZfNGY2uW7"
      },
      "source": [
        "Agora que resumimos o problema de múltiplas classes, podemos ver o balanceamento entre as Sucesso e Falha:"
      ]
    },
    {
      "cell_type": "code",
      "metadata": {
        "id": "cIgy_6jERpHc",
        "colab": {
          "base_uri": "https://localhost:8080/",
          "height": 404
        },
        "outputId": "e9f3beef-b770-49c2-f465-e631cccd15cc"
      },
      "source": [
        "plt.figure(figsize=(8, 6))\n",
        "plt.title('Verificando balanceamento das classes')\n",
        "plt.hist(df['Status Mission'], bins=2, edgecolor='black', linewidth=1)\n",
        "plt.xlabel('Classe')\n",
        "plt.ylabel('Frequência')\n",
        "plt.show()"
      ],
      "execution_count": null,
      "outputs": [
        {
          "output_type": "display_data",
          "data": {
            "image/png": "[encoded data removed]",
            "text/plain": [
              "<Figure size 576x432 with 1 Axes>"
            ]
          },
          "metadata": {
            "tags": [],
            "needs_background": "light"
          }
        }
      ]
    },
    {
      "cell_type": "markdown",
      "metadata": {
        "id": "hbY2sUXG30mS"
      },
      "source": [
        "Podemos ver que existem muito mais exemplos da classe `Success` do que da classe `Failure`. Dessa forma, podemos realizar um procedimento chamado `UnderSampling`, onde reduzimos o número de amostras de uma classe, para que o dataset fique mais balanceado. Existem diversas formas de fazer este procedimento (que inclusive é objeto de pesquisa), entretanto, por simplicidade, vamos fazer de forma aleatória. Um balanceamento razoável é 60/40, assim, faremos uma amostra dos lançamentos de sucesso para gerar essa proporção:"
      ]
    },
    {
      "cell_type": "code",
      "metadata": {
        "id": "U3C4U6-3VNPq"
      },
      "source": [
        "n_samples = int(1.5 * len(df[df['Status Mission'] == 'Failure']))\n",
        "balanced_df = pd.concat([df[df['Status Mission'] == 'Failure'],\n",
        "                        df[df['Status Mission'] == 'Success'].sample(n_samples)],\n",
        "                        ignore_index=True).reset_index(drop=True)"
      ],
      "execution_count": null,
      "outputs": []
    },
    {
      "cell_type": "code",
      "metadata": {
        "id": "_cB4cc64VfzC",
        "colab": {
          "base_uri": "https://localhost:8080/",
          "height": 404
        },
        "outputId": "5ca3bc64-f11d-4053-d92d-05782f0c627a"
      },
      "source": [
        "plt.figure(figsize=(8, 6))\n",
        "plt.title('Verificando balanceamento das classes')\n",
        "plt.hist(balanced_df['Status Mission'], bins=2, edgecolor='black', linewidth=1)\n",
        "plt.xlabel('Classe')\n",
        "plt.ylabel('Frequência')\n",
        "plt.show()"
      ],
      "execution_count": null,
      "outputs": [
        {
          "output_type": "display_data",
          "data": {
            "image/png": "[encoded data removed]",
            "text/plain": [
              "<Figure size 576x432 with 1 Axes>"
            ]
          },
          "metadata": {
            "tags": [],
            "needs_background": "light"
          }
        }
      ]
    },
    {
      "cell_type": "code",
      "metadata": {
        "id": "H_h2yNun5Ig4",
        "colab": {
          "base_uri": "https://localhost:8080/",
          "height": 197
        },
        "outputId": "2a6547aa-6c93-4733-f7ba-905b93272d84"
      },
      "source": [
        "balanced_df.head()"
      ],
      "execution_count": null,
      "outputs": [
        {
          "output_type": "execute_result",
          "data": {
            "text/html": [
              "<div>\n",
              "<style scoped>\n",
              "    .dataframe tbody tr th:only-of-type {\n",
              "        vertical-align: middle;\n",
              "    }\n",
              "\n",
              "    .dataframe tbody tr th {\n",
              "        vertical-align: top;\n",
              "    }\n",
              "\n",
              "    .dataframe thead th {\n",
              "        text-align: right;\n",
              "    }\n",
              "</style>\n",
              "<table border=\"1\" class=\"dataframe\">\n",
              "  <thead>\n",
              "    <tr style=\"text-align: right;\">\n",
              "      <th></th>\n",
              "      <th>Company Name</th>\n",
              "      <th>Location</th>\n",
              "      <th>Datum</th>\n",
              "      <th>Detail</th>\n",
              "      <th>Status Rocket</th>\n",
              "      <th>Rocket</th>\n",
              "      <th>Status Mission</th>\n",
              "    </tr>\n",
              "  </thead>\n",
              "  <tbody>\n",
              "    <tr>\n",
              "      <th>0</th>\n",
              "      <td>ExPace</td>\n",
              "      <td>Site 95, Jiuquan Satellite Launch Center, China</td>\n",
              "      <td>Fri Jul 10, 2020 04:17 UTC</td>\n",
              "      <td>Kuaizhou 11 | Jilin-1 02E, CentiSpace-1 S2</td>\n",
              "      <td>StatusActive</td>\n",
              "      <td>28.3</td>\n",
              "      <td>Failure</td>\n",
              "    </tr>\n",
              "    <tr>\n",
              "      <th>1</th>\n",
              "      <td>Rocket Lab</td>\n",
              "      <td>Rocket Lab LC-1A, M?hia Peninsula, New Zealand</td>\n",
              "      <td>Sat Jul 04, 2020 21:19 UTC</td>\n",
              "      <td>Electron/Curie | Pics Or It Didn??¦t Happen</td>\n",
              "      <td>StatusActive</td>\n",
              "      <td>7.5</td>\n",
              "      <td>Failure</td>\n",
              "    </tr>\n",
              "    <tr>\n",
              "      <th>2</th>\n",
              "      <td>Virgin Orbit</td>\n",
              "      <td>Cosmic Girl, Mojave Air and Space Port, Califo...</td>\n",
              "      <td>Mon May 25, 2020 19:50 UTC</td>\n",
              "      <td>LauncherOne | Demo Flight</td>\n",
              "      <td>StatusActive</td>\n",
              "      <td>12.0</td>\n",
              "      <td>Failure</td>\n",
              "    </tr>\n",
              "    <tr>\n",
              "      <th>3</th>\n",
              "      <td>CASC</td>\n",
              "      <td>LC-2, Xichang Satellite Launch Center, China</td>\n",
              "      <td>Thu Apr 09, 2020 11:46 UTC</td>\n",
              "      <td>Long March 3B/E | Nusantara Dua</td>\n",
              "      <td>StatusActive</td>\n",
              "      <td>29.15</td>\n",
              "      <td>Failure</td>\n",
              "    </tr>\n",
              "    <tr>\n",
              "      <th>4</th>\n",
              "      <td>CASC</td>\n",
              "      <td>LC-201, Wenchang Satellite Launch Center, China</td>\n",
              "      <td>Mon Mar 16, 2020 13:34 UTC</td>\n",
              "      <td>Long March 7A | XJY-6</td>\n",
              "      <td>StatusActive</td>\n",
              "      <td>NaN</td>\n",
              "      <td>Failure</td>\n",
              "    </tr>\n",
              "  </tbody>\n",
              "</table>\n",
              "</div>"
            ],
            "text/plain": [
              "   Company Name  ... Status Mission\n",
              "0        ExPace  ...        Failure\n",
              "1    Rocket Lab  ...        Failure\n",
              "2  Virgin Orbit  ...        Failure\n",
              "3          CASC  ...        Failure\n",
              "4          CASC  ...        Failure\n",
              "\n",
              "[5 rows x 7 columns]"
            ]
          },
          "metadata": {
            "tags": []
          },
          "execution_count": 13
        }
      ]
    },
    {
      "cell_type": "markdown",
      "metadata": {
        "id": "ZrZ0Qo78UQMD"
      },
      "source": [
        "## Manipulação dos dados\n",
        "\n",
        "O primeiro passo que identifico é transformar as colunas textuais em colunas numéricas, algo como uma variável dummy. Como o `Status Rocket` é a única categórica binária, é a única que faremos utilizando label_encoder. As demais, faremos usando dummies:\n",
        "\n",
        "PS: Note que o local de lançamento poderia ser utilizado como texto e extrair o país de lançamento, por exemplo. Existem diversas formas de fazer esse processo de extração de features, então observar os dados na tabela é essencial."
      ]
    },
    {
      "cell_type": "code",
      "metadata": {
        "id": "65FroKlqCLhM"
      },
      "source": [
        "status_encoder = LabelEncoder()\n",
        "labels = status_encoder.fit_transform(balanced_df['Status Rocket'].tolist())\n",
        "balanced_df['Status Rocket'] = labels"
      ],
      "execution_count": null,
      "outputs": []
    },
    {
      "cell_type": "code",
      "metadata": {
        "id": "lntJJtwPDVnS"
      },
      "source": [
        "balanced_df = balanced_df.merge(pd.get_dummies(balanced_df['Company Name']), left_index=True, right_index=True)\n",
        "balanced_df = balanced_df.merge(pd.get_dummies(balanced_df['Location']), left_index=True, right_index=True)\n",
        "balanced_df.drop(['Company Name', 'Location'], axis=1, inplace=True)"
      ],
      "execution_count": null,
      "outputs": []
    },
    {
      "cell_type": "markdown",
      "metadata": {
        "id": "HWvOHuDv62XI"
      },
      "source": [
        "Restam 3 colunas que podemos modificar: `Datum`, `Detail` e `Rocket`. Dessas colunas, opto por:\n",
        "* De datum, extrairemos o ano e utilizaremos como atributo numérico. Note que poderia ser um atributo categórico, mas opto pelo numérico por ser sequencial;\n",
        "* Como detail é quase uma id para cada lançamento, opto por remover a coluna;\n",
        "* Rocket é um atributo numérico, mas existem muitos valores faltando. Uma solução é colocar 0 nos valores que estão faltando, e em seguida normalizar os dados.\n",
        "\n",
        "Vejamos:"
      ]
    },
    {
      "cell_type": "code",
      "metadata": {
        "id": "rxmkSl3Y7fSQ"
      },
      "source": [
        "def year_from_datum(row):\n",
        "    \"\"\"\n",
        "    Extrai o ano da coluna Datum. Note que sempre segue um padrão:\n",
        "    <Dia da semana> <Mês> <Dia do mês>, <Ano> <Hora> <Fuso>.\n",
        "    Dessa forma, preciso pegar a primeira 'palavra' após a vírgula\n",
        "    \"\"\"\n",
        "    splits = row['Datum'].split(', ')\n",
        "    year = int(splits[1][:4])\n",
        "    row['Year'] = year\n",
        "    return row\n",
        "\n",
        "balanced_df = balanced_df.apply(year_from_datum, axis=1)"
      ],
      "execution_count": null,
      "outputs": []
    },
    {
      "cell_type": "markdown",
      "metadata": {
        "id": "diFvNpnp9zGX"
      },
      "source": [
        "Por último, a coluna `Rocket` ainda não é numérica: existem alguns dados que contém `,` indicando a separação de unidades de milhar. Vamos remover essa vírgula e transformar em dados numéricos:"
      ]
    },
    {
      "cell_type": "code",
      "metadata": {
        "id": "YQ6bNmlB-Hvf"
      },
      "source": [
        "balanced_df[' Rocket'] = balanced_df[' Rocket'].str.replace(',', '')"
      ],
      "execution_count": null,
      "outputs": []
    },
    {
      "cell_type": "code",
      "metadata": {
        "id": "mf4GRIGW9maR"
      },
      "source": [
        "balanced_df[' Rocket'] = balanced_df[' Rocket'].fillna(0)\n",
        "balanced_df[' Rocket'] = balanced_df[' Rocket'].astype('float')"
      ],
      "execution_count": null,
      "outputs": []
    },
    {
      "cell_type": "code",
      "metadata": {
        "id": "wELWzLTB8jgP"
      },
      "source": [
        "balanced_df.drop(['Datum', 'Detail'], axis=1, inplace=True)"
      ],
      "execution_count": null,
      "outputs": []
    },
    {
      "cell_type": "code",
      "metadata": {
        "id": "aXB82dTY8r8Y",
        "colab": {
          "base_uri": "https://localhost:8080/",
          "height": 396
        },
        "outputId": "a0989f0e-369e-428e-a243-dc26db82792b"
      },
      "source": [
        "balanced_df.head()"
      ],
      "execution_count": null,
      "outputs": [
        {
          "output_type": "execute_result",
          "data": {
            "text/html": [
              "<div>\n",
              "<style scoped>\n",
              "    .dataframe tbody tr th:only-of-type {\n",
              "        vertical-align: middle;\n",
              "    }\n",
              "\n",
              "    .dataframe tbody tr th {\n",
              "        vertical-align: top;\n",
              "    }\n",
              "\n",
              "    .dataframe thead th {\n",
              "        text-align: right;\n",
              "    }\n",
              "</style>\n",
              "<table border=\"1\" class=\"dataframe\">\n",
              "  <thead>\n",
              "    <tr style=\"text-align: right;\">\n",
              "      <th></th>\n",
              "      <th>Status Rocket</th>\n",
              "      <th>Rocket</th>\n",
              "      <th>Status Mission</th>\n",
              "      <th>AEB</th>\n",
              "      <th>AMBA</th>\n",
              "      <th>ASI</th>\n",
              "      <th>Arianespace</th>\n",
              "      <th>Arm??e de l'Air</th>\n",
              "      <th>Blue Origin</th>\n",
              "      <th>Boeing</th>\n",
              "      <th>CASC</th>\n",
              "      <th>CASIC</th>\n",
              "      <th>CECLES</th>\n",
              "      <th>CNES</th>\n",
              "      <th>EER</th>\n",
              "      <th>ESA</th>\n",
              "      <th>Eurockot</th>\n",
              "      <th>ExPace</th>\n",
              "      <th>Exos</th>\n",
              "      <th>General Dynamics</th>\n",
              "      <th>IAI</th>\n",
              "      <th>ILS</th>\n",
              "      <th>IRGC</th>\n",
              "      <th>ISA</th>\n",
              "      <th>ISAS</th>\n",
              "      <th>ISRO</th>\n",
              "      <th>JAXA</th>\n",
              "      <th>KARI</th>\n",
              "      <th>KCST</th>\n",
              "      <th>Kosmotras</th>\n",
              "      <th>Land Launch</th>\n",
              "      <th>Landspace</th>\n",
              "      <th>Lockheed</th>\n",
              "      <th>MHI</th>\n",
              "      <th>MITT</th>\n",
              "      <th>Martin Marietta</th>\n",
              "      <th>NASA</th>\n",
              "      <th>Northrop</th>\n",
              "      <th>OKB-586</th>\n",
              "      <th>OneSpace</th>\n",
              "      <th>...</th>\n",
              "      <th>Site 110/37, Baikonur Cosmodrome, Kazakhstan</th>\n",
              "      <th>Site 110/38, Baikonur Cosmodrome, Kazakhstan</th>\n",
              "      <th>Site 132/1, Plesetsk Cosmodrome, Russia</th>\n",
              "      <th>Site 132/2, Plesetsk Cosmodrome, Russia</th>\n",
              "      <th>Site 133/3, Plesetsk Cosmodrome, Russia</th>\n",
              "      <th>Site 138 (LA-2B), Jiuquan Satellite Launch Center, China</th>\n",
              "      <th>Site 158, Plesetsk Cosmodrome, Russia</th>\n",
              "      <th>Site 16/2, Plesetsk Cosmodrome, Russia</th>\n",
              "      <th>Site 161/35, Baikonur Cosmodrome, Kazakhstan</th>\n",
              "      <th>Site 162, Baikonur Cosmodrome, Kazakhstan</th>\n",
              "      <th>Site 175/59, Baikonur Cosmodrome, Kazakhstan</th>\n",
              "      <th>Site 1S, Vostochny Cosmodrome, Russia</th>\n",
              "      <th>Site 200/39, Baikonur Cosmodrome, Kazakhstan</th>\n",
              "      <th>Site 250, Baikonur Cosmodrome, Kazakhstan</th>\n",
              "      <th>Site 31/6, Baikonur Cosmodrome, Kazakhstan</th>\n",
              "      <th>Site 32/1, Plesetsk Cosmodrome, Russia</th>\n",
              "      <th>Site 32/2, Plesetsk Cosmodrome, Russia</th>\n",
              "      <th>Site 41/1, Plesetsk Cosmodrome, Russia</th>\n",
              "      <th>Site 41/15, Baikonur Cosmodrome, Kazakhstan</th>\n",
              "      <th>Site 43/3, Plesetsk Cosmodrome, Russia</th>\n",
              "      <th>Site 43/4, Plesetsk Cosmodrome, Russia</th>\n",
              "      <th>Site 45/1, Baikonur Cosmodrome, Kazakhstan</th>\n",
              "      <th>Site 45/2, Baikonur Cosmodrome, Kazakhstan</th>\n",
              "      <th>Site 5020 (LA-2A), Jiuquan Satellite Launch Center, China</th>\n",
              "      <th>Site 81/23, Baikonur Cosmodrome, Kazakhstan</th>\n",
              "      <th>Site 81/24, Baikonur Cosmodrome, Kazakhstan</th>\n",
              "      <th>Site 86/1, Kapustin Yar, Russia</th>\n",
              "      <th>Site 90/19, Baikonur Cosmodrome, Kazakhstan</th>\n",
              "      <th>Site 90/20, Baikonur Cosmodrome, Kazakhstan</th>\n",
              "      <th>Site 901 (SLS-1), Jiuquan Satellite Launch Center, China</th>\n",
              "      <th>Site 9401 (SLS-2), Jiuquan Satellite Launch Center, China</th>\n",
              "      <th>Site 95, Jiuquan Satellite Launch Center, China</th>\n",
              "      <th>Stargazer, Cape Canaveral AFS, Florida, USA</th>\n",
              "      <th>Stargazer, Ronald Reagan Ballistic Missile Defense Test Site, Marshall Islands, USA</th>\n",
              "      <th>Stargazer, Vandenberg AFB, California, USA</th>\n",
              "      <th>Taiyuan Satellite Launch Center, China</th>\n",
              "      <th>Uchinoura Space Center, Japan</th>\n",
              "      <th>VLS Pad, Alc?›ntara Launch Center, Maranh?œo, Brazil</th>\n",
              "      <th>Vertical Launch Area, Spaceport America, New Mexico</th>\n",
              "      <th>Year</th>\n",
              "    </tr>\n",
              "  </thead>\n",
              "  <tbody>\n",
              "    <tr>\n",
              "      <th>0</th>\n",
              "      <td>0</td>\n",
              "      <td>28.30</td>\n",
              "      <td>Failure</td>\n",
              "      <td>0</td>\n",
              "      <td>0</td>\n",
              "      <td>0</td>\n",
              "      <td>0</td>\n",
              "      <td>0</td>\n",
              "      <td>0</td>\n",
              "      <td>0</td>\n",
              "      <td>0</td>\n",
              "      <td>0</td>\n",
              "      <td>0</td>\n",
              "      <td>0</td>\n",
              "      <td>0</td>\n",
              "      <td>0</td>\n",
              "      <td>0</td>\n",
              "      <td>1</td>\n",
              "      <td>0</td>\n",
              "      <td>0</td>\n",
              "      <td>0</td>\n",
              "      <td>0</td>\n",
              "      <td>0</td>\n",
              "      <td>0</td>\n",
              "      <td>0</td>\n",
              "      <td>0</td>\n",
              "      <td>0</td>\n",
              "      <td>0</td>\n",
              "      <td>0</td>\n",
              "      <td>0</td>\n",
              "      <td>0</td>\n",
              "      <td>0</td>\n",
              "      <td>0</td>\n",
              "      <td>0</td>\n",
              "      <td>0</td>\n",
              "      <td>0</td>\n",
              "      <td>0</td>\n",
              "      <td>0</td>\n",
              "      <td>0</td>\n",
              "      <td>0</td>\n",
              "      <td>...</td>\n",
              "      <td>0</td>\n",
              "      <td>0</td>\n",
              "      <td>0</td>\n",
              "      <td>0</td>\n",
              "      <td>0</td>\n",
              "      <td>0</td>\n",
              "      <td>0</td>\n",
              "      <td>0</td>\n",
              "      <td>0</td>\n",
              "      <td>0</td>\n",
              "      <td>0</td>\n",
              "      <td>0</td>\n",
              "      <td>0</td>\n",
              "      <td>0</td>\n",
              "      <td>0</td>\n",
              "      <td>0</td>\n",
              "      <td>0</td>\n",
              "      <td>0</td>\n",
              "      <td>0</td>\n",
              "      <td>0</td>\n",
              "      <td>0</td>\n",
              "      <td>0</td>\n",
              "      <td>0</td>\n",
              "      <td>0</td>\n",
              "      <td>0</td>\n",
              "      <td>0</td>\n",
              "      <td>0</td>\n",
              "      <td>0</td>\n",
              "      <td>0</td>\n",
              "      <td>0</td>\n",
              "      <td>0</td>\n",
              "      <td>1</td>\n",
              "      <td>0</td>\n",
              "      <td>0</td>\n",
              "      <td>0</td>\n",
              "      <td>0</td>\n",
              "      <td>0</td>\n",
              "      <td>0</td>\n",
              "      <td>0</td>\n",
              "      <td>2020</td>\n",
              "    </tr>\n",
              "    <tr>\n",
              "      <th>1</th>\n",
              "      <td>0</td>\n",
              "      <td>7.50</td>\n",
              "      <td>Failure</td>\n",
              "      <td>0</td>\n",
              "      <td>0</td>\n",
              "      <td>0</td>\n",
              "      <td>0</td>\n",
              "      <td>0</td>\n",
              "      <td>0</td>\n",
              "      <td>0</td>\n",
              "      <td>0</td>\n",
              "      <td>0</td>\n",
              "      <td>0</td>\n",
              "      <td>0</td>\n",
              "      <td>0</td>\n",
              "      <td>0</td>\n",
              "      <td>0</td>\n",
              "      <td>0</td>\n",
              "      <td>0</td>\n",
              "      <td>0</td>\n",
              "      <td>0</td>\n",
              "      <td>0</td>\n",
              "      <td>0</td>\n",
              "      <td>0</td>\n",
              "      <td>0</td>\n",
              "      <td>0</td>\n",
              "      <td>0</td>\n",
              "      <td>0</td>\n",
              "      <td>0</td>\n",
              "      <td>0</td>\n",
              "      <td>0</td>\n",
              "      <td>0</td>\n",
              "      <td>0</td>\n",
              "      <td>0</td>\n",
              "      <td>0</td>\n",
              "      <td>0</td>\n",
              "      <td>0</td>\n",
              "      <td>0</td>\n",
              "      <td>0</td>\n",
              "      <td>0</td>\n",
              "      <td>...</td>\n",
              "      <td>0</td>\n",
              "      <td>0</td>\n",
              "      <td>0</td>\n",
              "      <td>0</td>\n",
              "      <td>0</td>\n",
              "      <td>0</td>\n",
              "      <td>0</td>\n",
              "      <td>0</td>\n",
              "      <td>0</td>\n",
              "      <td>0</td>\n",
              "      <td>0</td>\n",
              "      <td>0</td>\n",
              "      <td>0</td>\n",
              "      <td>0</td>\n",
              "      <td>0</td>\n",
              "      <td>0</td>\n",
              "      <td>0</td>\n",
              "      <td>0</td>\n",
              "      <td>0</td>\n",
              "      <td>0</td>\n",
              "      <td>0</td>\n",
              "      <td>0</td>\n",
              "      <td>0</td>\n",
              "      <td>0</td>\n",
              "      <td>0</td>\n",
              "      <td>0</td>\n",
              "      <td>0</td>\n",
              "      <td>0</td>\n",
              "      <td>0</td>\n",
              "      <td>0</td>\n",
              "      <td>0</td>\n",
              "      <td>0</td>\n",
              "      <td>0</td>\n",
              "      <td>0</td>\n",
              "      <td>0</td>\n",
              "      <td>0</td>\n",
              "      <td>0</td>\n",
              "      <td>0</td>\n",
              "      <td>0</td>\n",
              "      <td>2020</td>\n",
              "    </tr>\n",
              "    <tr>\n",
              "      <th>2</th>\n",
              "      <td>0</td>\n",
              "      <td>12.00</td>\n",
              "      <td>Failure</td>\n",
              "      <td>0</td>\n",
              "      <td>0</td>\n",
              "      <td>0</td>\n",
              "      <td>0</td>\n",
              "      <td>0</td>\n",
              "      <td>0</td>\n",
              "      <td>0</td>\n",
              "      <td>0</td>\n",
              "      <td>0</td>\n",
              "      <td>0</td>\n",
              "      <td>0</td>\n",
              "      <td>0</td>\n",
              "      <td>0</td>\n",
              "      <td>0</td>\n",
              "      <td>0</td>\n",
              "      <td>0</td>\n",
              "      <td>0</td>\n",
              "      <td>0</td>\n",
              "      <td>0</td>\n",
              "      <td>0</td>\n",
              "      <td>0</td>\n",
              "      <td>0</td>\n",
              "      <td>0</td>\n",
              "      <td>0</td>\n",
              "      <td>0</td>\n",
              "      <td>0</td>\n",
              "      <td>0</td>\n",
              "      <td>0</td>\n",
              "      <td>0</td>\n",
              "      <td>0</td>\n",
              "      <td>0</td>\n",
              "      <td>0</td>\n",
              "      <td>0</td>\n",
              "      <td>0</td>\n",
              "      <td>0</td>\n",
              "      <td>0</td>\n",
              "      <td>0</td>\n",
              "      <td>...</td>\n",
              "      <td>0</td>\n",
              "      <td>0</td>\n",
              "      <td>0</td>\n",
              "      <td>0</td>\n",
              "      <td>0</td>\n",
              "      <td>0</td>\n",
              "      <td>0</td>\n",
              "      <td>0</td>\n",
              "      <td>0</td>\n",
              "      <td>0</td>\n",
              "      <td>0</td>\n",
              "      <td>0</td>\n",
              "      <td>0</td>\n",
              "      <td>0</td>\n",
              "      <td>0</td>\n",
              "      <td>0</td>\n",
              "      <td>0</td>\n",
              "      <td>0</td>\n",
              "      <td>0</td>\n",
              "      <td>0</td>\n",
              "      <td>0</td>\n",
              "      <td>0</td>\n",
              "      <td>0</td>\n",
              "      <td>0</td>\n",
              "      <td>0</td>\n",
              "      <td>0</td>\n",
              "      <td>0</td>\n",
              "      <td>0</td>\n",
              "      <td>0</td>\n",
              "      <td>0</td>\n",
              "      <td>0</td>\n",
              "      <td>0</td>\n",
              "      <td>0</td>\n",
              "      <td>0</td>\n",
              "      <td>0</td>\n",
              "      <td>0</td>\n",
              "      <td>0</td>\n",
              "      <td>0</td>\n",
              "      <td>0</td>\n",
              "      <td>2020</td>\n",
              "    </tr>\n",
              "    <tr>\n",
              "      <th>3</th>\n",
              "      <td>0</td>\n",
              "      <td>29.15</td>\n",
              "      <td>Failure</td>\n",
              "      <td>0</td>\n",
              "      <td>0</td>\n",
              "      <td>0</td>\n",
              "      <td>0</td>\n",
              "      <td>0</td>\n",
              "      <td>0</td>\n",
              "      <td>0</td>\n",
              "      <td>1</td>\n",
              "      <td>0</td>\n",
              "      <td>0</td>\n",
              "      <td>0</td>\n",
              "      <td>0</td>\n",
              "      <td>0</td>\n",
              "      <td>0</td>\n",
              "      <td>0</td>\n",
              "      <td>0</td>\n",
              "      <td>0</td>\n",
              "      <td>0</td>\n",
              "      <td>0</td>\n",
              "      <td>0</td>\n",
              "      <td>0</td>\n",
              "      <td>0</td>\n",
              "      <td>0</td>\n",
              "      <td>0</td>\n",
              "      <td>0</td>\n",
              "      <td>0</td>\n",
              "      <td>0</td>\n",
              "      <td>0</td>\n",
              "      <td>0</td>\n",
              "      <td>0</td>\n",
              "      <td>0</td>\n",
              "      <td>0</td>\n",
              "      <td>0</td>\n",
              "      <td>0</td>\n",
              "      <td>0</td>\n",
              "      <td>0</td>\n",
              "      <td>0</td>\n",
              "      <td>...</td>\n",
              "      <td>0</td>\n",
              "      <td>0</td>\n",
              "      <td>0</td>\n",
              "      <td>0</td>\n",
              "      <td>0</td>\n",
              "      <td>0</td>\n",
              "      <td>0</td>\n",
              "      <td>0</td>\n",
              "      <td>0</td>\n",
              "      <td>0</td>\n",
              "      <td>0</td>\n",
              "      <td>0</td>\n",
              "      <td>0</td>\n",
              "      <td>0</td>\n",
              "      <td>0</td>\n",
              "      <td>0</td>\n",
              "      <td>0</td>\n",
              "      <td>0</td>\n",
              "      <td>0</td>\n",
              "      <td>0</td>\n",
              "      <td>0</td>\n",
              "      <td>0</td>\n",
              "      <td>0</td>\n",
              "      <td>0</td>\n",
              "      <td>0</td>\n",
              "      <td>0</td>\n",
              "      <td>0</td>\n",
              "      <td>0</td>\n",
              "      <td>0</td>\n",
              "      <td>0</td>\n",
              "      <td>0</td>\n",
              "      <td>0</td>\n",
              "      <td>0</td>\n",
              "      <td>0</td>\n",
              "      <td>0</td>\n",
              "      <td>0</td>\n",
              "      <td>0</td>\n",
              "      <td>0</td>\n",
              "      <td>0</td>\n",
              "      <td>2020</td>\n",
              "    </tr>\n",
              "    <tr>\n",
              "      <th>4</th>\n",
              "      <td>0</td>\n",
              "      <td>0.00</td>\n",
              "      <td>Failure</td>\n",
              "      <td>0</td>\n",
              "      <td>0</td>\n",
              "      <td>0</td>\n",
              "      <td>0</td>\n",
              "      <td>0</td>\n",
              "      <td>0</td>\n",
              "      <td>0</td>\n",
              "      <td>1</td>\n",
              "      <td>0</td>\n",
              "      <td>0</td>\n",
              "      <td>0</td>\n",
              "      <td>0</td>\n",
              "      <td>0</td>\n",
              "      <td>0</td>\n",
              "      <td>0</td>\n",
              "      <td>0</td>\n",
              "      <td>0</td>\n",
              "      <td>0</td>\n",
              "      <td>0</td>\n",
              "      <td>0</td>\n",
              "      <td>0</td>\n",
              "      <td>0</td>\n",
              "      <td>0</td>\n",
              "      <td>0</td>\n",
              "      <td>0</td>\n",
              "      <td>0</td>\n",
              "      <td>0</td>\n",
              "      <td>0</td>\n",
              "      <td>0</td>\n",
              "      <td>0</td>\n",
              "      <td>0</td>\n",
              "      <td>0</td>\n",
              "      <td>0</td>\n",
              "      <td>0</td>\n",
              "      <td>0</td>\n",
              "      <td>0</td>\n",
              "      <td>0</td>\n",
              "      <td>...</td>\n",
              "      <td>0</td>\n",
              "      <td>0</td>\n",
              "      <td>0</td>\n",
              "      <td>0</td>\n",
              "      <td>0</td>\n",
              "      <td>0</td>\n",
              "      <td>0</td>\n",
              "      <td>0</td>\n",
              "      <td>0</td>\n",
              "      <td>0</td>\n",
              "      <td>0</td>\n",
              "      <td>0</td>\n",
              "      <td>0</td>\n",
              "      <td>0</td>\n",
              "      <td>0</td>\n",
              "      <td>0</td>\n",
              "      <td>0</td>\n",
              "      <td>0</td>\n",
              "      <td>0</td>\n",
              "      <td>0</td>\n",
              "      <td>0</td>\n",
              "      <td>0</td>\n",
              "      <td>0</td>\n",
              "      <td>0</td>\n",
              "      <td>0</td>\n",
              "      <td>0</td>\n",
              "      <td>0</td>\n",
              "      <td>0</td>\n",
              "      <td>0</td>\n",
              "      <td>0</td>\n",
              "      <td>0</td>\n",
              "      <td>0</td>\n",
              "      <td>0</td>\n",
              "      <td>0</td>\n",
              "      <td>0</td>\n",
              "      <td>0</td>\n",
              "      <td>0</td>\n",
              "      <td>0</td>\n",
              "      <td>0</td>\n",
              "      <td>2020</td>\n",
              "    </tr>\n",
              "  </tbody>\n",
              "</table>\n",
              "<p>5 rows × 171 columns</p>\n",
              "</div>"
            ],
            "text/plain": [
              "   Status Rocket  ...  Year\n",
              "0              0  ...  2020\n",
              "1              0  ...  2020\n",
              "2              0  ...  2020\n",
              "3              0  ...  2020\n",
              "4              0  ...  2020\n",
              "\n",
              "[5 rows x 171 columns]"
            ]
          },
          "metadata": {
            "tags": []
          },
          "execution_count": 20
        }
      ]
    },
    {
      "cell_type": "markdown",
      "metadata": {
        "id": "tqUV_fv8GNYM"
      },
      "source": [
        "Agora já não existem mais atributos não numéricos, com exceção da `Status Mission`, que é a variável alvo. A última transformação será aplicar normalização nos dados. Como apenas `Rocket` e `Year` são variáveis numéricas, apenas elas sofreram grandes alterações:"
      ]
    },
    {
      "cell_type": "code",
      "metadata": {
        "id": "VCkr2LHOHprU",
        "colab": {
          "base_uri": "https://localhost:8080/",
          "height": 246
        },
        "outputId": "5c539657-838d-49a4-cc2c-744680b4d230"
      },
      "source": [
        "scaler = MinMaxScaler()\n",
        "transformed = scaler.fit_transform(balanced_df.drop(['Status Mission'], axis=1))\n",
        "transformed_df = pd.DataFrame(transformed)\n",
        "transformed_df.head()"
      ],
      "execution_count": null,
      "outputs": [
        {
          "output_type": "execute_result",
          "data": {
            "text/html": [
              "<div>\n",
              "<style scoped>\n",
              "    .dataframe tbody tr th:only-of-type {\n",
              "        vertical-align: middle;\n",
              "    }\n",
              "\n",
              "    .dataframe tbody tr th {\n",
              "        vertical-align: top;\n",
              "    }\n",
              "\n",
              "    .dataframe thead th {\n",
              "        text-align: right;\n",
              "    }\n",
              "</style>\n",
              "<table border=\"1\" class=\"dataframe\">\n",
              "  <thead>\n",
              "    <tr style=\"text-align: right;\">\n",
              "      <th></th>\n",
              "      <th>0</th>\n",
              "      <th>1</th>\n",
              "      <th>2</th>\n",
              "      <th>3</th>\n",
              "      <th>4</th>\n",
              "      <th>5</th>\n",
              "      <th>6</th>\n",
              "      <th>7</th>\n",
              "      <th>8</th>\n",
              "      <th>9</th>\n",
              "      <th>10</th>\n",
              "      <th>11</th>\n",
              "      <th>12</th>\n",
              "      <th>13</th>\n",
              "      <th>14</th>\n",
              "      <th>15</th>\n",
              "      <th>16</th>\n",
              "      <th>17</th>\n",
              "      <th>18</th>\n",
              "      <th>19</th>\n",
              "      <th>20</th>\n",
              "      <th>21</th>\n",
              "      <th>22</th>\n",
              "      <th>23</th>\n",
              "      <th>24</th>\n",
              "      <th>25</th>\n",
              "      <th>26</th>\n",
              "      <th>27</th>\n",
              "      <th>28</th>\n",
              "      <th>29</th>\n",
              "      <th>30</th>\n",
              "      <th>31</th>\n",
              "      <th>32</th>\n",
              "      <th>33</th>\n",
              "      <th>34</th>\n",
              "      <th>35</th>\n",
              "      <th>36</th>\n",
              "      <th>37</th>\n",
              "      <th>38</th>\n",
              "      <th>39</th>\n",
              "      <th>...</th>\n",
              "      <th>130</th>\n",
              "      <th>131</th>\n",
              "      <th>132</th>\n",
              "      <th>133</th>\n",
              "      <th>134</th>\n",
              "      <th>135</th>\n",
              "      <th>136</th>\n",
              "      <th>137</th>\n",
              "      <th>138</th>\n",
              "      <th>139</th>\n",
              "      <th>140</th>\n",
              "      <th>141</th>\n",
              "      <th>142</th>\n",
              "      <th>143</th>\n",
              "      <th>144</th>\n",
              "      <th>145</th>\n",
              "      <th>146</th>\n",
              "      <th>147</th>\n",
              "      <th>148</th>\n",
              "      <th>149</th>\n",
              "      <th>150</th>\n",
              "      <th>151</th>\n",
              "      <th>152</th>\n",
              "      <th>153</th>\n",
              "      <th>154</th>\n",
              "      <th>155</th>\n",
              "      <th>156</th>\n",
              "      <th>157</th>\n",
              "      <th>158</th>\n",
              "      <th>159</th>\n",
              "      <th>160</th>\n",
              "      <th>161</th>\n",
              "      <th>162</th>\n",
              "      <th>163</th>\n",
              "      <th>164</th>\n",
              "      <th>165</th>\n",
              "      <th>166</th>\n",
              "      <th>167</th>\n",
              "      <th>168</th>\n",
              "      <th>169</th>\n",
              "    </tr>\n",
              "  </thead>\n",
              "  <tbody>\n",
              "    <tr>\n",
              "      <th>0</th>\n",
              "      <td>0.0</td>\n",
              "      <td>0.00566</td>\n",
              "      <td>0.0</td>\n",
              "      <td>0.0</td>\n",
              "      <td>0.0</td>\n",
              "      <td>0.0</td>\n",
              "      <td>0.0</td>\n",
              "      <td>0.0</td>\n",
              "      <td>0.0</td>\n",
              "      <td>0.0</td>\n",
              "      <td>0.0</td>\n",
              "      <td>0.0</td>\n",
              "      <td>0.0</td>\n",
              "      <td>0.0</td>\n",
              "      <td>0.0</td>\n",
              "      <td>0.0</td>\n",
              "      <td>1.0</td>\n",
              "      <td>0.0</td>\n",
              "      <td>0.0</td>\n",
              "      <td>0.0</td>\n",
              "      <td>0.0</td>\n",
              "      <td>0.0</td>\n",
              "      <td>0.0</td>\n",
              "      <td>0.0</td>\n",
              "      <td>0.0</td>\n",
              "      <td>0.0</td>\n",
              "      <td>0.0</td>\n",
              "      <td>0.0</td>\n",
              "      <td>0.0</td>\n",
              "      <td>0.0</td>\n",
              "      <td>0.0</td>\n",
              "      <td>0.0</td>\n",
              "      <td>0.0</td>\n",
              "      <td>0.0</td>\n",
              "      <td>0.0</td>\n",
              "      <td>0.0</td>\n",
              "      <td>0.0</td>\n",
              "      <td>0.0</td>\n",
              "      <td>0.0</td>\n",
              "      <td>0.0</td>\n",
              "      <td>...</td>\n",
              "      <td>0.0</td>\n",
              "      <td>0.0</td>\n",
              "      <td>0.0</td>\n",
              "      <td>0.0</td>\n",
              "      <td>0.0</td>\n",
              "      <td>0.0</td>\n",
              "      <td>0.0</td>\n",
              "      <td>0.0</td>\n",
              "      <td>0.0</td>\n",
              "      <td>0.0</td>\n",
              "      <td>0.0</td>\n",
              "      <td>0.0</td>\n",
              "      <td>0.0</td>\n",
              "      <td>0.0</td>\n",
              "      <td>0.0</td>\n",
              "      <td>0.0</td>\n",
              "      <td>0.0</td>\n",
              "      <td>0.0</td>\n",
              "      <td>0.0</td>\n",
              "      <td>0.0</td>\n",
              "      <td>0.0</td>\n",
              "      <td>0.0</td>\n",
              "      <td>0.0</td>\n",
              "      <td>0.0</td>\n",
              "      <td>0.0</td>\n",
              "      <td>0.0</td>\n",
              "      <td>0.0</td>\n",
              "      <td>0.0</td>\n",
              "      <td>0.0</td>\n",
              "      <td>0.0</td>\n",
              "      <td>0.0</td>\n",
              "      <td>1.0</td>\n",
              "      <td>0.0</td>\n",
              "      <td>0.0</td>\n",
              "      <td>0.0</td>\n",
              "      <td>0.0</td>\n",
              "      <td>0.0</td>\n",
              "      <td>0.0</td>\n",
              "      <td>0.0</td>\n",
              "      <td>1.0</td>\n",
              "    </tr>\n",
              "    <tr>\n",
              "      <th>1</th>\n",
              "      <td>0.0</td>\n",
              "      <td>0.00150</td>\n",
              "      <td>0.0</td>\n",
              "      <td>0.0</td>\n",
              "      <td>0.0</td>\n",
              "      <td>0.0</td>\n",
              "      <td>0.0</td>\n",
              "      <td>0.0</td>\n",
              "      <td>0.0</td>\n",
              "      <td>0.0</td>\n",
              "      <td>0.0</td>\n",
              "      <td>0.0</td>\n",
              "      <td>0.0</td>\n",
              "      <td>0.0</td>\n",
              "      <td>0.0</td>\n",
              "      <td>0.0</td>\n",
              "      <td>0.0</td>\n",
              "      <td>0.0</td>\n",
              "      <td>0.0</td>\n",
              "      <td>0.0</td>\n",
              "      <td>0.0</td>\n",
              "      <td>0.0</td>\n",
              "      <td>0.0</td>\n",
              "      <td>0.0</td>\n",
              "      <td>0.0</td>\n",
              "      <td>0.0</td>\n",
              "      <td>0.0</td>\n",
              "      <td>0.0</td>\n",
              "      <td>0.0</td>\n",
              "      <td>0.0</td>\n",
              "      <td>0.0</td>\n",
              "      <td>0.0</td>\n",
              "      <td>0.0</td>\n",
              "      <td>0.0</td>\n",
              "      <td>0.0</td>\n",
              "      <td>0.0</td>\n",
              "      <td>0.0</td>\n",
              "      <td>0.0</td>\n",
              "      <td>0.0</td>\n",
              "      <td>0.0</td>\n",
              "      <td>...</td>\n",
              "      <td>0.0</td>\n",
              "      <td>0.0</td>\n",
              "      <td>0.0</td>\n",
              "      <td>0.0</td>\n",
              "      <td>0.0</td>\n",
              "      <td>0.0</td>\n",
              "      <td>0.0</td>\n",
              "      <td>0.0</td>\n",
              "      <td>0.0</td>\n",
              "      <td>0.0</td>\n",
              "      <td>0.0</td>\n",
              "      <td>0.0</td>\n",
              "      <td>0.0</td>\n",
              "      <td>0.0</td>\n",
              "      <td>0.0</td>\n",
              "      <td>0.0</td>\n",
              "      <td>0.0</td>\n",
              "      <td>0.0</td>\n",
              "      <td>0.0</td>\n",
              "      <td>0.0</td>\n",
              "      <td>0.0</td>\n",
              "      <td>0.0</td>\n",
              "      <td>0.0</td>\n",
              "      <td>0.0</td>\n",
              "      <td>0.0</td>\n",
              "      <td>0.0</td>\n",
              "      <td>0.0</td>\n",
              "      <td>0.0</td>\n",
              "      <td>0.0</td>\n",
              "      <td>0.0</td>\n",
              "      <td>0.0</td>\n",
              "      <td>0.0</td>\n",
              "      <td>0.0</td>\n",
              "      <td>0.0</td>\n",
              "      <td>0.0</td>\n",
              "      <td>0.0</td>\n",
              "      <td>0.0</td>\n",
              "      <td>0.0</td>\n",
              "      <td>0.0</td>\n",
              "      <td>1.0</td>\n",
              "    </tr>\n",
              "    <tr>\n",
              "      <th>2</th>\n",
              "      <td>0.0</td>\n",
              "      <td>0.00240</td>\n",
              "      <td>0.0</td>\n",
              "      <td>0.0</td>\n",
              "      <td>0.0</td>\n",
              "      <td>0.0</td>\n",
              "      <td>0.0</td>\n",
              "      <td>0.0</td>\n",
              "      <td>0.0</td>\n",
              "      <td>0.0</td>\n",
              "      <td>0.0</td>\n",
              "      <td>0.0</td>\n",
              "      <td>0.0</td>\n",
              "      <td>0.0</td>\n",
              "      <td>0.0</td>\n",
              "      <td>0.0</td>\n",
              "      <td>0.0</td>\n",
              "      <td>0.0</td>\n",
              "      <td>0.0</td>\n",
              "      <td>0.0</td>\n",
              "      <td>0.0</td>\n",
              "      <td>0.0</td>\n",
              "      <td>0.0</td>\n",
              "      <td>0.0</td>\n",
              "      <td>0.0</td>\n",
              "      <td>0.0</td>\n",
              "      <td>0.0</td>\n",
              "      <td>0.0</td>\n",
              "      <td>0.0</td>\n",
              "      <td>0.0</td>\n",
              "      <td>0.0</td>\n",
              "      <td>0.0</td>\n",
              "      <td>0.0</td>\n",
              "      <td>0.0</td>\n",
              "      <td>0.0</td>\n",
              "      <td>0.0</td>\n",
              "      <td>0.0</td>\n",
              "      <td>0.0</td>\n",
              "      <td>0.0</td>\n",
              "      <td>0.0</td>\n",
              "      <td>...</td>\n",
              "      <td>0.0</td>\n",
              "      <td>0.0</td>\n",
              "      <td>0.0</td>\n",
              "      <td>0.0</td>\n",
              "      <td>0.0</td>\n",
              "      <td>0.0</td>\n",
              "      <td>0.0</td>\n",
              "      <td>0.0</td>\n",
              "      <td>0.0</td>\n",
              "      <td>0.0</td>\n",
              "      <td>0.0</td>\n",
              "      <td>0.0</td>\n",
              "      <td>0.0</td>\n",
              "      <td>0.0</td>\n",
              "      <td>0.0</td>\n",
              "      <td>0.0</td>\n",
              "      <td>0.0</td>\n",
              "      <td>0.0</td>\n",
              "      <td>0.0</td>\n",
              "      <td>0.0</td>\n",
              "      <td>0.0</td>\n",
              "      <td>0.0</td>\n",
              "      <td>0.0</td>\n",
              "      <td>0.0</td>\n",
              "      <td>0.0</td>\n",
              "      <td>0.0</td>\n",
              "      <td>0.0</td>\n",
              "      <td>0.0</td>\n",
              "      <td>0.0</td>\n",
              "      <td>0.0</td>\n",
              "      <td>0.0</td>\n",
              "      <td>0.0</td>\n",
              "      <td>0.0</td>\n",
              "      <td>0.0</td>\n",
              "      <td>0.0</td>\n",
              "      <td>0.0</td>\n",
              "      <td>0.0</td>\n",
              "      <td>0.0</td>\n",
              "      <td>0.0</td>\n",
              "      <td>1.0</td>\n",
              "    </tr>\n",
              "    <tr>\n",
              "      <th>3</th>\n",
              "      <td>0.0</td>\n",
              "      <td>0.00583</td>\n",
              "      <td>0.0</td>\n",
              "      <td>0.0</td>\n",
              "      <td>0.0</td>\n",
              "      <td>0.0</td>\n",
              "      <td>0.0</td>\n",
              "      <td>0.0</td>\n",
              "      <td>0.0</td>\n",
              "      <td>1.0</td>\n",
              "      <td>0.0</td>\n",
              "      <td>0.0</td>\n",
              "      <td>0.0</td>\n",
              "      <td>0.0</td>\n",
              "      <td>0.0</td>\n",
              "      <td>0.0</td>\n",
              "      <td>0.0</td>\n",
              "      <td>0.0</td>\n",
              "      <td>0.0</td>\n",
              "      <td>0.0</td>\n",
              "      <td>0.0</td>\n",
              "      <td>0.0</td>\n",
              "      <td>0.0</td>\n",
              "      <td>0.0</td>\n",
              "      <td>0.0</td>\n",
              "      <td>0.0</td>\n",
              "      <td>0.0</td>\n",
              "      <td>0.0</td>\n",
              "      <td>0.0</td>\n",
              "      <td>0.0</td>\n",
              "      <td>0.0</td>\n",
              "      <td>0.0</td>\n",
              "      <td>0.0</td>\n",
              "      <td>0.0</td>\n",
              "      <td>0.0</td>\n",
              "      <td>0.0</td>\n",
              "      <td>0.0</td>\n",
              "      <td>0.0</td>\n",
              "      <td>0.0</td>\n",
              "      <td>0.0</td>\n",
              "      <td>...</td>\n",
              "      <td>0.0</td>\n",
              "      <td>0.0</td>\n",
              "      <td>0.0</td>\n",
              "      <td>0.0</td>\n",
              "      <td>0.0</td>\n",
              "      <td>0.0</td>\n",
              "      <td>0.0</td>\n",
              "      <td>0.0</td>\n",
              "      <td>0.0</td>\n",
              "      <td>0.0</td>\n",
              "      <td>0.0</td>\n",
              "      <td>0.0</td>\n",
              "      <td>0.0</td>\n",
              "      <td>0.0</td>\n",
              "      <td>0.0</td>\n",
              "      <td>0.0</td>\n",
              "      <td>0.0</td>\n",
              "      <td>0.0</td>\n",
              "      <td>0.0</td>\n",
              "      <td>0.0</td>\n",
              "      <td>0.0</td>\n",
              "      <td>0.0</td>\n",
              "      <td>0.0</td>\n",
              "      <td>0.0</td>\n",
              "      <td>0.0</td>\n",
              "      <td>0.0</td>\n",
              "      <td>0.0</td>\n",
              "      <td>0.0</td>\n",
              "      <td>0.0</td>\n",
              "      <td>0.0</td>\n",
              "      <td>0.0</td>\n",
              "      <td>0.0</td>\n",
              "      <td>0.0</td>\n",
              "      <td>0.0</td>\n",
              "      <td>0.0</td>\n",
              "      <td>0.0</td>\n",
              "      <td>0.0</td>\n",
              "      <td>0.0</td>\n",
              "      <td>0.0</td>\n",
              "      <td>1.0</td>\n",
              "    </tr>\n",
              "    <tr>\n",
              "      <th>4</th>\n",
              "      <td>0.0</td>\n",
              "      <td>0.00000</td>\n",
              "      <td>0.0</td>\n",
              "      <td>0.0</td>\n",
              "      <td>0.0</td>\n",
              "      <td>0.0</td>\n",
              "      <td>0.0</td>\n",
              "      <td>0.0</td>\n",
              "      <td>0.0</td>\n",
              "      <td>1.0</td>\n",
              "      <td>0.0</td>\n",
              "      <td>0.0</td>\n",
              "      <td>0.0</td>\n",
              "      <td>0.0</td>\n",
              "      <td>0.0</td>\n",
              "      <td>0.0</td>\n",
              "      <td>0.0</td>\n",
              "      <td>0.0</td>\n",
              "      <td>0.0</td>\n",
              "      <td>0.0</td>\n",
              "      <td>0.0</td>\n",
              "      <td>0.0</td>\n",
              "      <td>0.0</td>\n",
              "      <td>0.0</td>\n",
              "      <td>0.0</td>\n",
              "      <td>0.0</td>\n",
              "      <td>0.0</td>\n",
              "      <td>0.0</td>\n",
              "      <td>0.0</td>\n",
              "      <td>0.0</td>\n",
              "      <td>0.0</td>\n",
              "      <td>0.0</td>\n",
              "      <td>0.0</td>\n",
              "      <td>0.0</td>\n",
              "      <td>0.0</td>\n",
              "      <td>0.0</td>\n",
              "      <td>0.0</td>\n",
              "      <td>0.0</td>\n",
              "      <td>0.0</td>\n",
              "      <td>0.0</td>\n",
              "      <td>...</td>\n",
              "      <td>0.0</td>\n",
              "      <td>0.0</td>\n",
              "      <td>0.0</td>\n",
              "      <td>0.0</td>\n",
              "      <td>0.0</td>\n",
              "      <td>0.0</td>\n",
              "      <td>0.0</td>\n",
              "      <td>0.0</td>\n",
              "      <td>0.0</td>\n",
              "      <td>0.0</td>\n",
              "      <td>0.0</td>\n",
              "      <td>0.0</td>\n",
              "      <td>0.0</td>\n",
              "      <td>0.0</td>\n",
              "      <td>0.0</td>\n",
              "      <td>0.0</td>\n",
              "      <td>0.0</td>\n",
              "      <td>0.0</td>\n",
              "      <td>0.0</td>\n",
              "      <td>0.0</td>\n",
              "      <td>0.0</td>\n",
              "      <td>0.0</td>\n",
              "      <td>0.0</td>\n",
              "      <td>0.0</td>\n",
              "      <td>0.0</td>\n",
              "      <td>0.0</td>\n",
              "      <td>0.0</td>\n",
              "      <td>0.0</td>\n",
              "      <td>0.0</td>\n",
              "      <td>0.0</td>\n",
              "      <td>0.0</td>\n",
              "      <td>0.0</td>\n",
              "      <td>0.0</td>\n",
              "      <td>0.0</td>\n",
              "      <td>0.0</td>\n",
              "      <td>0.0</td>\n",
              "      <td>0.0</td>\n",
              "      <td>0.0</td>\n",
              "      <td>0.0</td>\n",
              "      <td>1.0</td>\n",
              "    </tr>\n",
              "  </tbody>\n",
              "</table>\n",
              "<p>5 rows × 170 columns</p>\n",
              "</div>"
            ],
            "text/plain": [
              "   0        1    2    3    4    5    6    ...  163  164  165  166  167  168  169\n",
              "0  0.0  0.00566  0.0  0.0  0.0  0.0  0.0  ...  0.0  0.0  0.0  0.0  0.0  0.0  1.0\n",
              "1  0.0  0.00150  0.0  0.0  0.0  0.0  0.0  ...  0.0  0.0  0.0  0.0  0.0  0.0  1.0\n",
              "2  0.0  0.00240  0.0  0.0  0.0  0.0  0.0  ...  0.0  0.0  0.0  0.0  0.0  0.0  1.0\n",
              "3  0.0  0.00583  0.0  0.0  0.0  0.0  0.0  ...  0.0  0.0  0.0  0.0  0.0  0.0  1.0\n",
              "4  0.0  0.00000  0.0  0.0  0.0  0.0  0.0  ...  0.0  0.0  0.0  0.0  0.0  0.0  1.0\n",
              "\n",
              "[5 rows x 170 columns]"
            ]
          },
          "metadata": {
            "tags": []
          },
          "execution_count": 21
        }
      ]
    },
    {
      "cell_type": "markdown",
      "metadata": {
        "id": "_samPk52UNG3"
      },
      "source": [
        "## Classificação\n",
        "\n",
        "Primeira etapa na classificação é separar os dados entre dados de treino, teste e validação. Entretanto, a validação será feita utilizando Cross Validation, e por isso não usaremos hold-out. \n",
        "\n",
        "Além disso, aplicaremos uma última transformação nos dados: criaremos um novo vetor para conter nossa variável alvo, mas ao invés da string `Failure` teremos 0, e da string `Success` teremos 1.\n",
        "\n",
        "Vejamos."
      ]
    },
    {
      "cell_type": "code",
      "metadata": {
        "id": "6Wj533n__tUn"
      },
      "source": [
        "y = pd.Series([0 if sm == 'Failure' else 1 for sm in balanced_df['Status Mission']])"
      ],
      "execution_count": null,
      "outputs": []
    },
    {
      "cell_type": "code",
      "metadata": {
        "id": "foqA6JJVTbRv"
      },
      "source": [
        "x_train, x_test, y_train, y_test = train_test_split(transformed_df, y)"
      ],
      "execution_count": null,
      "outputs": []
    },
    {
      "cell_type": "code",
      "metadata": {
        "id": "CZd8POVIOGU2"
      },
      "source": [
        "folds = 10\n",
        "kfold = StratifiedKFold(folds)"
      ],
      "execution_count": null,
      "outputs": []
    },
    {
      "cell_type": "markdown",
      "metadata": {
        "id": "h0ji1dnhM01Q"
      },
      "source": [
        "### Regressão Logística\n",
        "\n",
        "Aqui, utilizaremos um KFold feito manualmente. Nesse código, definimos no array `logreg_C` os possíveis valores para o parâmetro `C` da regressão logística. Esse parâmetro se refere a força da regularização.\n",
        "\n",
        "Em seguida, declaramos algumas variáveis para manter os valores atuais da melhor predição.\n",
        "\n",
        "A ideia é testar os diferentes valores de C e re-treinar o modelo com o C que obteve menor erro de validação."
      ]
    },
    {
      "cell_type": "code",
      "metadata": {
        "id": "U9jPAff2Mz79",
        "colab": {
          "base_uri": "https://localhost:8080/"
        },
        "outputId": "119c3c6c-17ec-4f3f-83c0-697ada3ffda5"
      },
      "source": [
        "logreg_C = [1e-4, 1e-3, 1e-2, 1e-1, 1]\n",
        "best_c = logreg_C[0]\n",
        "best_score = 0\n",
        "best_accuracy = 0\n",
        "avg_scores = []\n",
        "\n",
        "for c in logreg_C:\n",
        "    score = 0\n",
        "    accuracy = 0\n",
        "    for train_index, test_index in kfold.split(x_train, y_train):\n",
        "        x_train_fold, x_test_fold = x_train.iloc[train_index], x_train.iloc[test_index]\n",
        "        y_train_fold, y_test_fold = y_train.iloc[train_index], y_train.iloc[test_index]\n",
        "\n",
        "        model = LogisticRegression(C=c, random_state=31)\n",
        "        model.fit(x_train_fold, y_train_fold)\n",
        "        pred = model.predict(x_test_fold)\n",
        "\n",
        "        score += f1_score(y_test_fold, pred)\n",
        "        accuracy += accuracy_score(y_test_fold, pred)\n",
        "\n",
        "\n",
        "    score = score / folds # média\n",
        "    avg_scores.append(score)\n",
        "    accuracy = accuracy / folds\n",
        "    if (score > best_score):\n",
        "        best_score = score\n",
        "        best_accuracy = accuracy\n",
        "        best_c = c\n",
        "\n",
        "print(f'Melhor C: {best_c}. Resultou no F1 {best_score} e Acurácia {best_accuracy} durante o {folds}-fold')"
      ],
      "execution_count": null,
      "outputs": [
        {
          "output_type": "stream",
          "text": [
            "Melhor C: 1. Resultou no F1 0.7689453645361145 e Acurácia 0.7025387263339071 durante o 10-fold\n"
          ],
          "name": "stdout"
        }
      ]
    },
    {
      "cell_type": "markdown",
      "metadata": {
        "id": "TIDoZBvUYOe2"
      },
      "source": [
        "Podemos re-treinar o modelo com todos os dados e avaliá-lo no conjunto de testes"
      ]
    },
    {
      "cell_type": "code",
      "metadata": {
        "id": "83k62UQwQS0T"
      },
      "source": [
        "model = LogisticRegression(C = best_c)\n",
        "model.fit(x_train, y_train)\n",
        "pred = model.predict(x_test)"
      ],
      "execution_count": null,
      "outputs": []
    },
    {
      "cell_type": "code",
      "metadata": {
        "id": "5n882x2iZAFP",
        "colab": {
          "base_uri": "https://localhost:8080/"
        },
        "outputId": "b4489223-0b8d-4a27-a128-05b708f61b97"
      },
      "source": [
        "f1 = f1_score(y_test, pred)\n",
        "accuracy = accuracy_score(y_test, pred)\n",
        "print(f'O melhor modelo resultou no F1 {f1} e Acurácia {accuracy}')"
      ],
      "execution_count": null,
      "outputs": [
        {
          "output_type": "stream",
          "text": [
            "O melhor modelo resultou no F1 0.830188679245283 e Acurácia 0.7733812949640287\n"
          ],
          "name": "stdout"
        }
      ]
    },
    {
      "cell_type": "code",
      "metadata": {
        "id": "JSi5Et_BrKQ5",
        "colab": {
          "base_uri": "https://localhost:8080/"
        },
        "outputId": "bc833573-8873-4acb-cb94-b54ac68b261e"
      },
      "source": [
        "conf = confusion_matrix(y_test, pred)\n",
        "plot_confusion_matrix(conf, ['Failure', 'Success'])"
      ],
      "execution_count": null,
      "outputs": [
        {
          "output_type": "display_data",
          "data": {
            "image/png": "[encoded data removed]",
            "text/plain": [
              "<Figure size 432x288 with 2 Axes>"
            ]
          },
          "metadata": {
            "tags": [],
            "needs_background": "light"
          }
        }
      ]
    },
    {
      "cell_type": "markdown",
      "metadata": {
        "id": "oFiE89a8AVKr"
      },
      "source": [
        "A matriz de confusão acima pode ser lida da seguinte forma:\n",
        "* Na diagonal principal, temos os acertos em cada classe;\n",
        "* Fora da diagonal, temos as previsões incorretas, de modo que:\n",
        "    * O segundo quadrado da primeira linha representa os falsos positivos, isto é, lançamentos que falharam mas a regressão logística disse ter sido bem sucedidos;\n",
        "    * O primeiro quadrado da segunda linha representa os falsos negativos, isto é, os lançamentos que foram bem sucedidos mas a regerssão logística disse terem falhado;\n",
        "\n",
        "Algo que podemos supor sobre este resultado se refere a quando fizemos o balanceamento entre as classes, que ainda deixamos a classe de Sucesso com mais elementos que a classe de falha. Talvez um maior balanceamento resultasse em melhores previsões. Isso é algo que você deve testar.\n",
        "\n",
        "Por fim, podemos ver como os diferentes valores de C impactaram na performance do modelo em termos de F1-score:"
      ]
    },
    {
      "cell_type": "code",
      "metadata": {
        "id": "CycOnoT-wrqT",
        "colab": {
          "base_uri": "https://localhost:8080/"
        },
        "outputId": "81a48402-5ad1-4a5f-d9c7-da38b3910889"
      },
      "source": [
        "plt.figure(figsize=(8,6))\n",
        "plt.plot(logreg_C, avg_scores, '-o')\n",
        "plt.title('Visualizando relação entre regularização e F1-Score')\n",
        "plt.xlabel('C')\n",
        "plt.ylabel('F1-Score')\n",
        "plt.xscale('log')\n",
        "plt.show()"
      ],
      "execution_count": null,
      "outputs": [
        {
          "output_type": "display_data",
          "data": {
            "image/png": "[encoded data removed]",
            "text/plain": [
              "<Figure size 576x432 with 1 Axes>"
            ]
          },
          "metadata": {
            "tags": [],
            "needs_background": "light"
          }
        }
      ]
    },
    {
      "cell_type": "markdown",
      "metadata": {
        "id": "v82d-TXbhFBb"
      },
      "source": [
        "## Árvore de Decisão\n",
        "\n",
        "Repetindo o mesmo procedimento para Árvore de decisão, mas agora utilizando GridSearch para simplificar o processo de cross validation:"
      ]
    },
    {
      "cell_type": "code",
      "metadata": {
        "id": "BdBmYTMVZKtq",
        "colab": {
          "base_uri": "https://localhost:8080/"
        },
        "outputId": "d0ae5554-4425-47a3-8001-2e96c4e2f40b"
      },
      "source": [
        "dtree = DecisionTreeClassifier()\n",
        "dtree_params = { 'max_depth': [5, 10, 15], 'max_leaf_nodes': [10, 20, 30] }\n",
        "grid = GridSearchCV(dtree, dtree_params, 'f1', cv=folds)\n",
        "grid.fit(x_train, y_train)"
      ],
      "execution_count": null,
      "outputs": [
        {
          "output_type": "execute_result",
          "data": {
            "text/plain": [
              "GridSearchCV(cv=10, error_score=nan,\n",
              "             estimator=DecisionTreeClassifier(ccp_alpha=0.0, class_weight=None,\n",
              "                                              criterion='gini', max_depth=None,\n",
              "                                              max_features=None,\n",
              "                                              max_leaf_nodes=None,\n",
              "                                              min_impurity_decrease=0.0,\n",
              "                                              min_impurity_split=None,\n",
              "                                              min_samples_leaf=1,\n",
              "                                              min_samples_split=2,\n",
              "                                              min_weight_fraction_leaf=0.0,\n",
              "                                              presort='deprecated',\n",
              "                                              random_state=None,\n",
              "                                              splitter='best'),\n",
              "             iid='deprecated', n_jobs=None,\n",
              "             param_grid={'max_depth': [5, 10, 15],\n",
              "                         'max_leaf_nodes': [10, 20, 30]},\n",
              "             pre_dispatch='2*n_jobs', refit=True, return_train_score=False,\n",
              "             scoring='f1', verbose=0)"
            ]
          },
          "metadata": {
            "tags": []
          },
          "execution_count": 30
        }
      ]
    },
    {
      "cell_type": "code",
      "metadata": {
        "id": "gu2OSIv5iDwC",
        "colab": {
          "base_uri": "https://localhost:8080/"
        },
        "outputId": "323d47f5-0892-4aeb-ca50-89e6db97a6e1"
      },
      "source": [
        "print(f'Melhor depth: {grid.best_params_[\"max_depth\"]}. Melhor num de folhas: {grid.best_params_[\"max_leaf_nodes\"]}')\n",
        "print(f'Resultou no F1 {grid.best_score_} durante o {folds}-fold')"
      ],
      "execution_count": null,
      "outputs": [
        {
          "output_type": "stream",
          "text": [
            "Melhor depth: 15. Melhor num de folhas: 20\n",
            "Resultou no F1 0.757501076604538 durante o 10-fold\n"
          ],
          "name": "stdout"
        }
      ]
    },
    {
      "cell_type": "code",
      "metadata": {
        "id": "51WgRAo3h4zj",
        "colab": {
          "base_uri": "https://localhost:8080/"
        },
        "outputId": "3d436ebf-a93c-4ca8-c782-4699c5635d8b"
      },
      "source": [
        "pred = grid.predict(x_test)\n",
        "f1 = f1_score(y_test, pred)\n",
        "accuracy = accuracy_score(y_test, pred)\n",
        "print(f'O melhor modelo resultou no F1 {f1} e Acurácia {accuracy}')"
      ],
      "execution_count": null,
      "outputs": [
        {
          "output_type": "stream",
          "text": [
            "O melhor modelo resultou no F1 0.7485714285714287 e Acurácia 0.6834532374100719\n"
          ],
          "name": "stdout"
        }
      ]
    },
    {
      "cell_type": "code",
      "metadata": {
        "id": "I4rakiGwiqwg",
        "colab": {
          "base_uri": "https://localhost:8080/",
          "height": 296
        },
        "outputId": "1005ebe1-8856-4d79-fd74-e8795acca4d2"
      },
      "source": [
        "conf = confusion_matrix(y_test, pred)\n",
        "plot_confusion_matrix(conf, ['0', '1'])"
      ],
      "execution_count": null,
      "outputs": [
        {
          "output_type": "display_data",
          "data": {
            "image/png": "[encoded data removed]",
            "text/plain": [
              "<Figure size 432x288 with 2 Axes>"
            ]
          },
          "metadata": {
            "tags": [],
            "needs_background": "light"
          }
        }
      ]
    },
    {
      "cell_type": "markdown",
      "metadata": {
        "id": "kGKwJl-fBoUr"
      },
      "source": [
        "Agora, ao invés de termos nossas variáveis guardando o melhor valor de cada parâmetro, iremos recuperar esses valores do grid search e visualizar:"
      ]
    },
    {
      "cell_type": "code",
      "metadata": {
        "id": "TSPRqNbrtHno",
        "colab": {
          "base_uri": "https://localhost:8080/",
          "height": 384
        },
        "outputId": "fb1c8f22-5920-4eaa-d356-cb7fc5669db7"
      },
      "source": [
        "grid_cv = pd.DataFrame.from_dict(grid.cv_results_)\n",
        "grid_cv.head()"
      ],
      "execution_count": null,
      "outputs": [
        {
          "output_type": "execute_result",
          "data": {
            "text/html": [
              "<div>\n",
              "<style scoped>\n",
              "    .dataframe tbody tr th:only-of-type {\n",
              "        vertical-align: middle;\n",
              "    }\n",
              "\n",
              "    .dataframe tbody tr th {\n",
              "        vertical-align: top;\n",
              "    }\n",
              "\n",
              "    .dataframe thead th {\n",
              "        text-align: right;\n",
              "    }\n",
              "</style>\n",
              "<table border=\"1\" class=\"dataframe\">\n",
              "  <thead>\n",
              "    <tr style=\"text-align: right;\">\n",
              "      <th></th>\n",
              "      <th>mean_fit_time</th>\n",
              "      <th>std_fit_time</th>\n",
              "      <th>mean_score_time</th>\n",
              "      <th>std_score_time</th>\n",
              "      <th>param_max_depth</th>\n",
              "      <th>param_max_leaf_nodes</th>\n",
              "      <th>params</th>\n",
              "      <th>split0_test_score</th>\n",
              "      <th>split1_test_score</th>\n",
              "      <th>split2_test_score</th>\n",
              "      <th>split3_test_score</th>\n",
              "      <th>split4_test_score</th>\n",
              "      <th>split5_test_score</th>\n",
              "      <th>split6_test_score</th>\n",
              "      <th>split7_test_score</th>\n",
              "      <th>split8_test_score</th>\n",
              "      <th>split9_test_score</th>\n",
              "      <th>mean_test_score</th>\n",
              "      <th>std_test_score</th>\n",
              "      <th>rank_test_score</th>\n",
              "    </tr>\n",
              "  </thead>\n",
              "  <tbody>\n",
              "    <tr>\n",
              "      <th>0</th>\n",
              "      <td>0.005281</td>\n",
              "      <td>0.000953</td>\n",
              "      <td>0.002462</td>\n",
              "      <td>0.000301</td>\n",
              "      <td>5</td>\n",
              "      <td>10</td>\n",
              "      <td>{'max_depth': 5, 'max_leaf_nodes': 10}</td>\n",
              "      <td>0.736842</td>\n",
              "      <td>0.752137</td>\n",
              "      <td>0.793388</td>\n",
              "      <td>0.774775</td>\n",
              "      <td>0.752137</td>\n",
              "      <td>0.778761</td>\n",
              "      <td>0.666667</td>\n",
              "      <td>0.659794</td>\n",
              "      <td>0.769231</td>\n",
              "      <td>0.637363</td>\n",
              "      <td>0.732109</td>\n",
              "      <td>0.053333</td>\n",
              "      <td>4</td>\n",
              "    </tr>\n",
              "    <tr>\n",
              "      <th>1</th>\n",
              "      <td>0.004384</td>\n",
              "      <td>0.000091</td>\n",
              "      <td>0.001891</td>\n",
              "      <td>0.000098</td>\n",
              "      <td>5</td>\n",
              "      <td>20</td>\n",
              "      <td>{'max_depth': 5, 'max_leaf_nodes': 20}</td>\n",
              "      <td>0.757895</td>\n",
              "      <td>0.752137</td>\n",
              "      <td>0.754098</td>\n",
              "      <td>0.781818</td>\n",
              "      <td>0.730435</td>\n",
              "      <td>0.741379</td>\n",
              "      <td>0.666667</td>\n",
              "      <td>0.645833</td>\n",
              "      <td>0.769231</td>\n",
              "      <td>0.637363</td>\n",
              "      <td>0.723686</td>\n",
              "      <td>0.050479</td>\n",
              "      <td>9</td>\n",
              "    </tr>\n",
              "    <tr>\n",
              "      <th>2</th>\n",
              "      <td>0.004827</td>\n",
              "      <td>0.000764</td>\n",
              "      <td>0.002197</td>\n",
              "      <td>0.000467</td>\n",
              "      <td>5</td>\n",
              "      <td>30</td>\n",
              "      <td>{'max_depth': 5, 'max_leaf_nodes': 30}</td>\n",
              "      <td>0.750000</td>\n",
              "      <td>0.752137</td>\n",
              "      <td>0.764228</td>\n",
              "      <td>0.781818</td>\n",
              "      <td>0.741379</td>\n",
              "      <td>0.747826</td>\n",
              "      <td>0.651163</td>\n",
              "      <td>0.645833</td>\n",
              "      <td>0.769231</td>\n",
              "      <td>0.652174</td>\n",
              "      <td>0.725579</td>\n",
              "      <td>0.050886</td>\n",
              "      <td>6</td>\n",
              "    </tr>\n",
              "    <tr>\n",
              "      <th>3</th>\n",
              "      <td>0.004497</td>\n",
              "      <td>0.000163</td>\n",
              "      <td>0.001860</td>\n",
              "      <td>0.000058</td>\n",
              "      <td>10</td>\n",
              "      <td>10</td>\n",
              "      <td>{'max_depth': 10, 'max_leaf_nodes': 10}</td>\n",
              "      <td>0.734694</td>\n",
              "      <td>0.747475</td>\n",
              "      <td>0.792453</td>\n",
              "      <td>0.725490</td>\n",
              "      <td>0.703297</td>\n",
              "      <td>0.723404</td>\n",
              "      <td>0.714286</td>\n",
              "      <td>0.680000</td>\n",
              "      <td>0.769231</td>\n",
              "      <td>0.652174</td>\n",
              "      <td>0.724250</td>\n",
              "      <td>0.038752</td>\n",
              "      <td>7</td>\n",
              "    </tr>\n",
              "    <tr>\n",
              "      <th>4</th>\n",
              "      <td>0.005114</td>\n",
              "      <td>0.000122</td>\n",
              "      <td>0.001907</td>\n",
              "      <td>0.000125</td>\n",
              "      <td>10</td>\n",
              "      <td>20</td>\n",
              "      <td>{'max_depth': 10, 'max_leaf_nodes': 20}</td>\n",
              "      <td>0.774775</td>\n",
              "      <td>0.759259</td>\n",
              "      <td>0.785714</td>\n",
              "      <td>0.731183</td>\n",
              "      <td>0.764706</td>\n",
              "      <td>0.705882</td>\n",
              "      <td>0.709677</td>\n",
              "      <td>0.727273</td>\n",
              "      <td>0.758621</td>\n",
              "      <td>0.747475</td>\n",
              "      <td>0.746456</td>\n",
              "      <td>0.025670</td>\n",
              "      <td>2</td>\n",
              "    </tr>\n",
              "  </tbody>\n",
              "</table>\n",
              "</div>"
            ],
            "text/plain": [
              "   mean_fit_time  std_fit_time  ...  std_test_score  rank_test_score\n",
              "0       0.005281      0.000953  ...        0.053333                4\n",
              "1       0.004384      0.000091  ...        0.050479                9\n",
              "2       0.004827      0.000764  ...        0.050886                6\n",
              "3       0.004497      0.000163  ...        0.038752                7\n",
              "4       0.005114      0.000122  ...        0.025670                2\n",
              "\n",
              "[5 rows x 20 columns]"
            ]
          },
          "metadata": {
            "tags": []
          },
          "execution_count": 34
        }
      ]
    },
    {
      "cell_type": "code",
      "metadata": {
        "id": "6oRIu7gWtR_I",
        "colab": {
          "base_uri": "https://localhost:8080/",
          "height": 404
        },
        "outputId": "aa47681e-fe07-4cae-e33e-6430ae37fa09"
      },
      "source": [
        "plt.figure(figsize=(8,6))\n",
        "colors = ['blue', 'red', 'green']\n",
        "for i, max_leafs in enumerate(grid_cv['param_max_leaf_nodes'].unique()):\n",
        "    s = grid_cv[grid_cv['param_max_leaf_nodes'] == max_leafs]\n",
        "    plt.plot(s['param_max_depth'], s['mean_test_score'], '-o', c=colors[i], label=max_leafs)\n",
        "\n",
        "plt.title('Visualizando relação entre hiperparâmetros e F1-Score')\n",
        "plt.xlabel('Profundidade')\n",
        "plt.ylabel('F1-Score')\n",
        "plt.legend(title='Max folhas')\n",
        "plt.show()"
      ],
      "execution_count": null,
      "outputs": [
        {
          "output_type": "display_data",
          "data": {
            "image/png": "[encoded data removed]",
            "text/plain": [
              "<Figure size 576x432 with 1 Axes>"
            ]
          },
          "metadata": {
            "tags": [],
            "needs_background": "light"
          }
        }
      ]
    },
    {
      "cell_type": "code",
      "metadata": {
        "id": "QgR9CX8FuW0P"
      },
      "source": [
        ""
      ],
      "execution_count": null,
      "outputs": []
    }
  ]
}